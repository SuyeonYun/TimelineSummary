{
 "cells": [
  {
   "cell_type": "code",
   "execution_count": 1,
   "id": "8c0ece25",
   "metadata": {},
   "outputs": [],
   "source": [
    "from flask import Flask\n",
    "from flask import request\n",
    "from pytube import YouTube\n",
    "import os\n",
    "import re\n",
    "import cv2\n",
    "import easyocr\n",
    "import sqlite3\n",
    "from transformers import RobertaTokenizerFast, RobertaForSequenceClassification, TextClassificationPipeline"
   ]
  },
  {
   "cell_type": "code",
   "execution_count": 2,
   "id": "4a25d15d",
   "metadata": {},
   "outputs": [
    {
     "name": "stderr",
     "output_type": "stream",
     "text": [
      "C:\\Users\\kimjm\\anaconda3\\envs\\py_gpu_env\\lib\\site-packages\\transformers\\pipelines\\text_classification.py:104: UserWarning: `return_all_scores` is now deprecated,  if want a similar functionality use `top_k=None` instead of `return_all_scores=True` or `top_k=1` instead of `return_all_scores=False`.\n",
      "  warnings.warn(\n",
      "Using C:\\Users\\kimjm\\AppData\\Local\\torch_extensions\\torch_extensions\\Cache\\py38_cu117 as PyTorch extensions root...\n",
      "C:\\Users\\kimjm\\anaconda3\\envs\\py_gpu_env\\lib\\site-packages\\torch\\utils\\cpp_extension.py:358: UserWarning: Error checking compiler version for cl: [WinError 2] 지정된 파일을 찾을 수 없습니다\n",
      "  warnings.warn(f'Error checking compiler version for {compiler}: {error}')\n",
      "Detected CUDA files, patching ldflags\n",
      "Emitting ninja build file C:\\Users\\kimjm\\AppData\\Local\\torch_extensions\\torch_extensions\\Cache\\py38_cu117\\cuda_kernel\\build.ninja...\n",
      "Failed to load CUDA kernels. Mra requires custom CUDA kernels. Please verify that compatible versions of PyTorch and CUDA Toolkit are installed: Command '['where', 'cl']' returned non-zero exit status 1.\n",
      "Xformers is not installed correctly. If you want to use memory_efficient_attention to accelerate training use the following command to install Xformers\n",
      "pip install xformers.\n"
     ]
    }
   ],
   "source": [
    "HUGGINGFACE_MODEL_PATH = \"bespin-global/klue-roberta-small-3i4k-intent-classification\"\n",
    "loaded_tokenizer = RobertaTokenizerFast.from_pretrained(HUGGINGFACE_MODEL_PATH)\n",
    "loaded_model = RobertaForSequenceClassification.from_pretrained(HUGGINGFACE_MODEL_PATH)\n",
    "\n",
    "# using Pipeline\n",
    "text_classifier = TextClassificationPipeline(\n",
    "    tokenizer=loaded_tokenizer,\n",
    "    model=loaded_model,\n",
    "    return_all_scores=True\n",
    ")\n",
    "\n",
    "reader = easyocr.Reader(['ko', 'en'])"
   ]
  },
  {
   "cell_type": "code",
   "execution_count": 3,
   "id": "9f0536ea",
   "metadata": {},
   "outputs": [],
   "source": []
  },
  {
   "cell_type": "code",
   "execution_count": 3,
   "id": "810d45ca",
   "metadata": {},
   "outputs": [
    {
     "name": "stdout",
     "output_type": "stream",
     "text": [
      " * Serving Flask app '__name__'\n",
      " * Debug mode: on\n"
     ]
    },
    {
     "name": "stderr",
     "output_type": "stream",
     "text": [
      "WARNING: This is a development server. Do not use it in a production deployment. Use a production WSGI server instead.\n",
      " * Running on http://127.0.0.1:5000\n",
      "Press CTRL+C to quit\n",
      " * Restarting with stat\n"
     ]
    },
    {
     "ename": "SystemExit",
     "evalue": "1",
     "output_type": "error",
     "traceback": [
      "An exception has occurred, use %tb to see the full traceback.\n",
      "\u001b[1;31mSystemExit\u001b[0m\u001b[1;31m:\u001b[0m 1\n"
     ]
    },
    {
     "name": "stderr",
     "output_type": "stream",
     "text": [
      "C:\\Users\\kimjm\\anaconda3\\envs\\py_gpu_env\\lib\\site-packages\\IPython\\core\\interactiveshell.py:3516: UserWarning: To exit: use 'exit', 'quit', or Ctrl-D.\n",
      "  warn(\"To exit: use 'exit', 'quit', or Ctrl-D.\", stacklevel=1)\n"
     ]
    }
   ],
   "source": [
    "api = Flask(import_name='__name__')\n",
    "\n",
    "\n",
    "\n",
    "@api.route('/makeTL', methods = ['GET'])\n",
    "def TL():\n",
    "    videoID = request.args.get('v', None)\n",
    "    \n",
    "    con = sqlite3.connect('timeline.db')\n",
    "    con.row_factory = lambda cursor, row: row[0]\n",
    "    cur = con.cursor()\n",
    "    \n",
    "    cur.execute('SELECT pk FROM video WHERE id = ?',[videoID])\n",
    "    pk = cur.fetchall()\n",
    "    \n",
    "    if pk:\n",
    "        cur.execute('SELECT cmt FROM comments WHERE fk = (SELECT pk FROM video WHERE fk = ?)',[pk[0]])\n",
    "        cmts = cur.fetchall()\n",
    "        con.close()\n",
    "        return '<br>'.join(cmts)\n",
    "    \n",
    "    else:    \n",
    "        url = \"https://www.youtube.com/watch?v=\" + videoID\n",
    "        yt = YouTube(url)\n",
    "        stream = yt.streams.get_highest_resolution()\n",
    "        stream.download('./video')\n",
    "\n",
    "        filepath = os.listdir('./video')[0]\n",
    "        filepath = './video/' + filepath\n",
    "        os.rename(filepath, ''.join(re.findall(r'[가-힣A-Za-z\\\\/.0-9]+',filepath)))\n",
    "\n",
    "        filepath = os.listdir('./video')[0]\n",
    "        filepath = './video/' + filepath\n",
    "\n",
    "        video = cv2.VideoCapture(filepath)\n",
    "        length = int(video.get(cv2.CAP_PROP_FRAME_COUNT)) # 전체 프레임 갯수\n",
    "        width = int(video.get(cv2.CAP_PROP_FRAME_WIDTH)) # 가로 해상도\n",
    "        height = int(video.get(cv2.CAP_PROP_FRAME_HEIGHT)) # 세로 해상도\n",
    "        fps = round(video.get(cv2.CAP_PROP_FPS)) # 초당 프레임 갯수\n",
    "\n",
    "        count = 0\n",
    "        imgpath = './images'\n",
    "        while(video.isOpened()):\n",
    "          if video.get(1) >= length:\n",
    "            break\n",
    "          ret, image = video.read()\n",
    "          if(int(video.get(1)) % fps == 0): #앞서 불러온 fps 값을 사용하여 1초마다 추출\n",
    "              cv2.imwrite(imgpath + \"/frame%d.jpg\" % count, image)\n",
    "              count += 1\n",
    "        video.release()\n",
    "\n",
    "        imgs = sorted(os.listdir(imgpath), key = lambda x: int(re.search(r'(\\d{1,})',x).group()))\n",
    "        result = []\n",
    "        for i in range(len(imgs)):\n",
    "          sbres = reader.readtext(imgpath + '/' + imgs[i])\n",
    "          result.append(sbres)\n",
    "\n",
    "        cmt = ''\n",
    "        cmts = []\n",
    "        th = 0.7\n",
    "        cur.execute('INSERT INTO video(id) VALUES(?)',[videoID])\n",
    "        for k in range(len(result)):\n",
    "            cm = []\n",
    "            for i in range(len(result[k])):\n",
    "                cm.append(result[k][i][1])\n",
    "\n",
    "            preds_list = text_classifier(' '.join(re.findall(r'[가-힣?]+', ' '.join(cm))))\n",
    "            pred = sorted(preds_list[0], key = lambda x: x['score'], reverse = True)[0]\n",
    "\n",
    "            if pred['label'] != 'question':\n",
    "                continue\n",
    "\n",
    "            elif pred['score'] > th:\n",
    "                cmt_sub = cmt\n",
    "                cmt = ' '.join(cm)\n",
    "\n",
    "                if len(set(cmt.split(' ')) & set(cmt_sub.split(' '))) > 3:\n",
    "                    continue\n",
    "\n",
    "\n",
    "                if k > 3600:\n",
    "                    if k % 60 < 10:\n",
    "                        cur.execute('INSERT INTO comments(fk, cmt) VALUES((SELECT pk FROM video WHERE id = ?),?)',\\\n",
    "                                    (videoID, f'{k // 3600}:{(k // 3600 // 60)}:0{k % 60} {\" \".join(re.findall(r\"[가-힣?0-9]+\", cmt))}'))\n",
    "                        cmts.append(f'{k // 3600}:{(k // 3600 // 60)}:0{k % 60} {\" \".join(re.findall(r\"[가-힣?0-9]+\", cmt))}')\n",
    "                    else:\n",
    "                        cur.execute('INSERT INTO comments(fk, cmt) VALUES((SELECT pk FROM video WHERE id = ?),?)',\\\n",
    "                                    (videoID, f'{k // 3600}:{(k // 3600 // 60)}:{k % 60} {\" \".join(re.findall(r\"[가-힣?0-9]+\", cmt))}'))\n",
    "                        cmts.append(f'{k // 3600}:{(k // 3600 // 60)}:{k % 60} {\" \".join(re.findall(r\"[가-힣?0-9]+\", cmt))}')\n",
    "\n",
    "                else:\n",
    "                    if k % 60 < 10:\n",
    "                        cur.execute('INSERT INTO comments(fk, cmt) VALUES((SELECT pk FROM video WHERE id = ?),?)',\\\n",
    "                                    (videoID, f'{k // 60}:0{k % 60} {\" \".join(re.findall(r\"[가-힣?0-9]+\", cmt))}'))\n",
    "                        cmts.append(f'{k // 60}:0{k % 60} {\" \".join(re.findall(r\"[가-힣?0-9]+\", cmt))}')\n",
    "                    else:\n",
    "                        cur.execute('INSERT INTO comments(fk, cmt) VALUES((SELECT pk FROM video WHERE id = ?),?)',\\\n",
    "                                    (videoID, f'{k // 60}:{k % 60} {\" \".join(re.findall(r\"[가-힣?0-9]+\", cmt))}'))\n",
    "                        cmts.append(f'{k // 60}:{k % 60} {\" \".join(re.findall(r\"[가-힣?0-9]+\", cmt))}')\n",
    "        \n",
    "        \n",
    "        \n",
    "        for i in range(len(imgs)):\n",
    "            os.remove(imgpath + '/' + imgs[i])\n",
    "        os.remove(filepath)\n",
    "        \n",
    "        con.commit()\n",
    "        con.close()\n",
    "        \n",
    "        return '<br>'.join(cmts)\n",
    "    \n",
    "\n",
    "\n",
    "if __name__ == '__main__':\n",
    "    api.run(debug = True)"
   ]
  }
 ],
 "metadata": {
  "kernelspec": {
   "display_name": "PY_GPU",
   "language": "python",
   "name": "gpu_env"
  },
  "language_info": {
   "codemirror_mode": {
    "name": "ipython",
    "version": 3
   },
   "file_extension": ".py",
   "mimetype": "text/x-python",
   "name": "python",
   "nbconvert_exporter": "python",
   "pygments_lexer": "ipython3",
   "version": "3.8.17"
  }
 },
 "nbformat": 4,
 "nbformat_minor": 5
}
